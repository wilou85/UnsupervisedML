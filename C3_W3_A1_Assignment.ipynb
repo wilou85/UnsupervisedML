{
 "cells": [
  {
   "cell_type": "markdown",
   "metadata": {},
   "source": [
    "# Deep Q-Learning - Lunar Lander\n",
    "\n",
    "In this assignment, you will train an agent to land a lunar lander safely on a landing pad on the surface of the moon.\n",
    "\n",
    "\n",
    "# Outline\n",
    "- [ 1 - Import Packages <img align=\"Right\" src=\"./images/lunar_lander.gif\" width = 60% >](#1)\n",
    "- [ 2 - Hyperparameters](#2)\n",
    "- [ 3 - The Lunar Lander Environment](#3)\n",
    "  - [ 3.1 Action Space](#3.1)\n",
    "  - [ 3.2 Observation Space](#3.2)\n",
    "  - [ 3.3 Rewards](#3.3)\n",
    "  - [ 3.4 Episode Termination](#3.4)\n",
    "- [ 4 - Load the Environment](#4)\n",
    "- [ 5 - Interacting with the Gym Environment](#5)\n",
    "    - [ 5.1 Exploring the Environment's Dynamics](#5.1)\n",
    "- [ 6 - Deep Q-Learning](#6)\n",
    "  - [ 6.1 Target Network](#6.1)\n",
    "    - [ Exercise 1](#ex01)\n",
    "  - [ 6.2 Experience Replay](#6.2)\n",
    "- [ 7 - Deep Q-Learning Algorithm with Experience Replay](#7)\n",
    "  - [ Exercise 2](#ex02)\n",
    "- [ 8 - Update the Network Weights](#8)\n",
    "- [ 9 - Train the Agent](#9)\n",
    "- [ 10 - See the Trained Agent In Action](#10)\n",
    "- [ 11 - Congratulations!](#11)\n",
    "- [ 12 - References](#12)\n"
   ]
  },
  {
   "cell_type": "markdown",
   "metadata": {},
   "source": [
    "_**NOTE:** To prevent errors from the autograder, you are not allowed to edit or delete non-graded cells in this lab. Please also refrain from adding any new cells. \n",
    "**Once you have passed this assignment** and want to experiment with any of the non-graded code, you may follow the instructions at the bottom of this notebook._"
   ]
  },
  {
   "cell_type": "markdown",
   "metadata": {},
   "source": [
    "<a name=\"1\"></a>\n",
    "## 1 - Import Packages\n",
    "\n",
    "We'll make use of the following packages:\n",
    "- `numpy` is a package for scientific computing in python.\n",
    "- `deque` will be our data structure for our memory buffer.\n",
    "- `namedtuple` will be used to store the experience tuples.\n",
    "- The `gym` toolkit is a collection of environments that can be used to test reinforcement learning algorithms. We should note that in this notebook we are using `gym` version `0.24.0`.\n",
    "- `PIL.Image` and `pyvirtualdisplay` are needed to render the Lunar Lander environment.\n",
    "- We will use several modules from the `tensorflow.keras` framework for building deep learning models.\n",
    "- `utils` is a module that contains helper functions for this assignment. You do not need to modify the code in this file.\n",
    "\n",
    "Run the cell below to import all the necessary packages."
   ]
  },
  {
   "cell_type": "code",
   "execution_count": 1,
   "metadata": {
    "deletable": false,
    "editable": false,
    "id": "KYbOPKRtfQOr"
   },
   "outputs": [],
   "source": [
    "import time\n",
    "from collections import deque, namedtuple\n",
    "\n",
    "import gym\n",
    "import numpy as np\n",
    "import PIL.Image\n",
    "import tensorflow as tf\n",
    "import utils\n",
    "\n",
    "from pyvirtualdisplay import Display\n",
    "from tensorflow.keras import Sequential\n",
    "from tensorflow.keras.layers import Dense, Input\n",
    "from tensorflow.keras.losses import MSE\n",
    "from tensorflow.keras.optimizers import Adam"
   ]
  },
  {
   "cell_type": "code",
   "execution_count": 2,
   "metadata": {
    "deletable": false,
    "editable": false
   },
   "outputs": [],
   "source": [
    "# Set up a virtual display to render the Lunar Lander environment.\n",
    "Display(visible=0, size=(840, 480)).start();\n",
    "\n",
    "# Set the random seed for TensorFlow\n",
    "tf.random.set_seed(utils.SEED)"
   ]
  },
  {
   "cell_type": "markdown",
   "metadata": {},
   "source": [
    "<a name=\"2\"></a>\n",
    "## 2 - Hyperparameters\n",
    "\n",
    "Run the cell below to set the hyperparameters."
   ]
  },
  {
   "cell_type": "code",
   "execution_count": 3,
   "metadata": {
    "deletable": false,
    "editable": false
   },
   "outputs": [],
   "source": [
    "MEMORY_SIZE = 100_000     # size of memory buffer\n",
    "GAMMA = 0.995             # discount factor\n",
    "ALPHA = 1e-3              # learning rate  \n",
    "NUM_STEPS_FOR_UPDATE = 4  # perform a learning update every C time steps"
   ]
  },
  {
   "cell_type": "markdown",
   "metadata": {},
   "source": [
    "<a name=\"3\"></a>\n",
    "## 3 - The Lunar Lander Environment\n",
    "\n",
    "In this notebook we will be using [OpenAI's Gym Library](https://www.gymlibrary.dev/). The Gym library provides a wide variety of environments for reinforcement learning. To put it simply, an environment represents a problem or task to be solved. In this notebook, we will try to solve the Lunar Lander environment using reinforcement learning.\n",
    "\n",
    "The goal of the Lunar Lander environment is to land the lunar lander safely on the landing pad on the surface of the moon. The landing pad is designated by two flag poles and its center is at coordinates `(0,0)` but the lander is also allowed to land outside of the landing pad. The lander starts at the top center of the environment with a random initial force applied to its center of mass and has infinite fuel. The environment is considered solved if you get `200` points. \n",
    "\n",
    "<br>\n",
    "<br>\n",
    "<figure>\n",
    "  <img src = \"images/lunar_lander.gif\" width = 40%>\n",
    "      <figcaption style = \"text-align: center; font-style: italic\">Fig 1. Lunar Lander Environment.</figcaption>\n",
    "</figure>\n",
    "\n",
    "\n",
    "\n",
    "<a name=\"3.1\"></a>\n",
    "### 3.1 Action Space\n",
    "\n",
    "The agent has four discrete actions available:\n",
    "\n",
    "* Do nothing.\n",
    "* Fire right engine.\n",
    "* Fire main engine.\n",
    "* Fire left engine.\n",
    "\n",
    "Each action has a corresponding numerical value:\n",
    "\n",
    "```python\n",
    "Do nothing = 0\n",
    "Fire right engine = 1\n",
    "Fire main engine = 2\n",
    "Fire left engine = 3\n",
    "```\n",
    "\n",
    "<a name=\"3.2\"></a>\n",
    "### 3.2 Observation Space\n",
    "\n",
    "The agent's observation space consists of a state vector with 8 variables:\n",
    "\n",
    "* Its $(x,y)$ coordinates. The landing pad is always at coordinates $(0,0)$.\n",
    "* Its linear velocities $(\\dot x,\\dot y)$.\n",
    "* Its angle $\\theta$.\n",
    "* Its angular velocity $\\dot \\theta$.\n",
    "* Two booleans, $l$ and $r$, that represent whether each leg is in contact with the ground or not.\n",
    "\n",
    "<a name=\"3.3\"></a>\n",
    "### 3.3 Rewards\n",
    "\n",
    "After every step, a reward is granted. The total reward of an episode is the sum of the rewards for all the steps within that episode.\n",
    "\n",
    "For each step, the reward:\n",
    "- is increased/decreased the closer/further the lander is to the landing pad.\n",
    "- is increased/decreased the slower/faster the lander is moving.\n",
    "- is decreased the more the lander is tilted (angle not horizontal).\n",
    "- is increased by 10 points for each leg that is in contact with the ground.\n",
    "- is decreased by 0.03 points each frame a side engine is firing.\n",
    "- is decreased by 0.3 points each frame the main engine is firing.\n",
    "\n",
    "The episode receives an additional reward of -100 or +100 points for crashing or landing safely respectively.\n",
    "\n",
    "<a name=\"3.4\"></a>\n",
    "### 3.4 Episode Termination\n",
    "\n",
    "An episode ends (i.e the environment enters a terminal state) if:\n",
    "\n",
    "* The lunar lander crashes (i.e if the body of the lunar lander comes in contact with the surface of the moon).\n",
    "\n",
    "* The absolute value of the lander's $x$-coordinate is greater than 1 (i.e. it goes beyond the left or right border)\n",
    "\n",
    "You can check out the [Open AI Gym documentation](https://www.gymlibrary.dev/environments/box2d/lunar_lander/) for a full description of the environment. "
   ]
  },
  {
   "cell_type": "markdown",
   "metadata": {},
   "source": [
    "<a name=\"4\"></a>\n",
    "## 4 - Load the Environment\n",
    "\n",
    "We start by loading the `LunarLander-v2` environment from the `gym` library by using the `.make()` method. `LunarLander-v2` is the latest version of the Lunar Lander environment and you can read about its version history in the [Open AI Gym documentation](https://www.gymlibrary.dev/environments/box2d/lunar_lander/#version-history)."
   ]
  },
  {
   "cell_type": "code",
   "execution_count": 4,
   "metadata": {
    "deletable": false,
    "editable": false,
    "id": "ILVMYKewfR0n"
   },
   "outputs": [],
   "source": [
    "env = gym.make('LunarLander-v2')"
   ]
  },
  {
   "cell_type": "markdown",
   "metadata": {},
   "source": [
    "Once we load the environment we use the `.reset()` method to reset the environment to the initial state. The lander starts at the top center of the environment and we can render the first frame of the environment by using the `.render()` method."
   ]
  },
  {
   "cell_type": "code",
   "execution_count": 5,
   "metadata": {
    "deletable": false,
    "editable": false
   },
   "outputs": [
    {
     "data": {
      "image/png": "[encoded data removed]",
      "text/plain": [
       "<PIL.Image.Image image mode=RGB size=600x400 at 0x7F1403E06ED0>"
      ]
     },
     "execution_count": 5,
     "metadata": {},
     "output_type": "execute_result"
    }
   ],
   "source": [
    "env.reset()\n",
    "PIL.Image.fromarray(env.render(mode='rgb_array'))"
   ]
  },
  {
   "cell_type": "markdown",
   "metadata": {},
   "source": [
    "In order to build our neural network later on we need to know the size of the state vector and the number of valid actions. We can get this information from our environment by using the `.observation_space.shape` and `action_space.n` methods, respectively."
   ]
  },
  {
   "cell_type": "code",
   "execution_count": 6,
   "metadata": {
    "deletable": false,
    "editable": false,
    "id": "x3fdqdG4CUu2"
   },
   "outputs": [
    {
     "name": "stdout",
     "output_type": "stream",
     "text": [
      "State Shape: (8,)\n",
      "Number of actions: 4\n"
     ]
    }
   ],
   "source": [
    "state_size = env.observation_space.shape\n",
    "num_actions = env.action_space.n\n",
    "\n",
    "print('State Shape:', state_size)\n",
    "print('Number of actions:', num_actions)"
   ]
  },
  {
   "cell_type": "markdown",
   "metadata": {},
   "source": [
    "<a name=\"5\"></a>\n",
    "## 5 - Interacting with the Gym Environment\n",
    "\n",
    "The Gym library implements the standard “agent-environment loop” formalism:\n",
    "\n",
    "<br>\n",
    "<center>\n",
    "<video src = \"./videos/rl_formalism.m4v\" width=\"840\" height=\"480\" controls autoplay loop poster=\"./images/rl_formalism.png\"> </video>\n",
    "<figcaption style = \"text-align:center; font-style:italic\">Fig 2. Agent-environment Loop Formalism.</figcaption>\n",
    "</center>\n",
    "<br>\n",
    "\n",
    "In the standard “agent-environment loop” formalism, an agent interacts with the environment in discrete time steps $t=0,1,2,...$. At each time step $t$, the agent uses a policy $\\pi$ to select an action $A_t$ based on its observation of the environment's state $S_t$. The agent receives a numerical reward $R_t$ and on the next time step, moves to a new state $S_{t+1}$.\n",
    "\n",
    "<a name=\"5.1\"></a>\n",
    "### 5.1 Exploring the Environment's Dynamics\n",
    "\n",
    "In Open AI's Gym environments, we use the `.step()` method to run a single time step of the environment's dynamics. In the version of `gym` that we are using the `.step()` method accepts an action and returns four values:\n",
    "\n",
    "* `observation` (**object**): an environment-specific object representing your observation of the environment. In the Lunar Lander environment this corresponds to a numpy array containing the positions and velocities of the lander as described in section [3.2 Observation Space](#3.2).\n",
    "\n",
    "\n",
    "* `reward` (**float**): amount of reward returned as a result of taking the given action. In the Lunar Lander environment this corresponds to a float of type `numpy.float64` as described in section [3.3 Rewards](#3.3).\n",
    "\n",
    "\n",
    "* `done` (**boolean**): When done is `True`, it indicates the episode has terminated and it’s time to reset the environment. \n",
    "\n",
    "\n",
    "* `info` (**dictionary**): diagnostic information useful for debugging. We won't be using this variable in this notebook but it is shown here for completeness.\n",
    "\n",
    "To begin an episode, we need to reset the environment to an initial state. We do this by using the `.reset()` method. "
   ]
  },
  {
   "cell_type": "code",
   "execution_count": 7,
   "metadata": {
    "deletable": false,
    "editable": false
   },
   "outputs": [],
   "source": [
    "# Reset the environment and get the initial state.\n",
    "current_state = env.reset()"
   ]
  },
  {
   "cell_type": "markdown",
   "metadata": {},
   "source": [
    "Once the environment is reset, the agent can start taking actions in the environment by using the `.step()` method. Note that the agent can only take one action per time step. \n",
    "\n",
    "In the cell below you can select different actions and see how the returned values change depending on the action taken. Remember that in this environment the agent has four discrete actions available and we specify them in code by using their corresponding numerical value:\n",
    "\n",
    "```python\n",
    "Do nothing = 0\n",
    "Fire right engine = 1\n",
    "Fire main engine = 2\n",
    "Fire left engine = 3\n",
    "```"
   ]
  },
  {
   "cell_type": "code",
   "execution_count": 8,
   "metadata": {
    "deletable": false
   },
   "outputs": [
    {
     "data": {
      "text/html": [
       "<style  type=\"text/css\" >\n",
       "    #T_33ecd850_44f5_11ee_a310_0242ac120023 th {\n",
       "          border: 1px solid grey;\n",
       "          text-align: center;\n",
       "    }    #T_33ecd850_44f5_11ee_a310_0242ac120023 tbody td {\n",
       "          border: 1px solid grey;\n",
       "          text-align: center;\n",
       "    }    #T_33ecd850_44f5_11ee_a310_0242ac120023row0_col0 {\n",
       "            background-color :  grey;\n",
       "        }    #T_33ecd850_44f5_11ee_a310_0242ac120023row1_col1 {\n",
       "            background-color :  grey;\n",
       "        }    #T_33ecd850_44f5_11ee_a310_0242ac120023row1_col2 {\n",
       "            background-color :  grey;\n",
       "        }    #T_33ecd850_44f5_11ee_a310_0242ac120023row1_col3 {\n",
       "            background-color :  grey;\n",
       "        }    #T_33ecd850_44f5_11ee_a310_0242ac120023row1_col4 {\n",
       "            background-color :  grey;\n",
       "        }    #T_33ecd850_44f5_11ee_a310_0242ac120023row1_col5 {\n",
       "            background-color :  grey;\n",
       "        }    #T_33ecd850_44f5_11ee_a310_0242ac120023row1_col6 {\n",
       "            background-color :  grey;\n",
       "        }    #T_33ecd850_44f5_11ee_a310_0242ac120023row1_col7 {\n",
       "            background-color :  grey;\n",
       "        }    #T_33ecd850_44f5_11ee_a310_0242ac120023row1_col8 {\n",
       "            background-color :  grey;\n",
       "        }    #T_33ecd850_44f5_11ee_a310_0242ac120023row1_col9 {\n",
       "            background-color :  grey;\n",
       "        }    #T_33ecd850_44f5_11ee_a310_0242ac120023row1_col10 {\n",
       "            background-color :  grey;\n",
       "        }    #T_33ecd850_44f5_11ee_a310_0242ac120023row1_col11 {\n",
       "            background-color :  grey;\n",
       "        }    #T_33ecd850_44f5_11ee_a310_0242ac120023row2_col0 {\n",
       "            background-color :  grey;\n",
       "        }    #T_33ecd850_44f5_11ee_a310_0242ac120023row3_col1 {\n",
       "            background-color :  grey;\n",
       "        }    #T_33ecd850_44f5_11ee_a310_0242ac120023row3_col2 {\n",
       "            background-color :  grey;\n",
       "        }    #T_33ecd850_44f5_11ee_a310_0242ac120023row3_col3 {\n",
       "            background-color :  grey;\n",
       "        }    #T_33ecd850_44f5_11ee_a310_0242ac120023row3_col4 {\n",
       "            background-color :  grey;\n",
       "        }    #T_33ecd850_44f5_11ee_a310_0242ac120023row3_col5 {\n",
       "            background-color :  grey;\n",
       "        }    #T_33ecd850_44f5_11ee_a310_0242ac120023row3_col6 {\n",
       "            background-color :  grey;\n",
       "        }    #T_33ecd850_44f5_11ee_a310_0242ac120023row3_col7 {\n",
       "            background-color :  grey;\n",
       "        }    #T_33ecd850_44f5_11ee_a310_0242ac120023row3_col8 {\n",
       "            background-color :  grey;\n",
       "        }    #T_33ecd850_44f5_11ee_a310_0242ac120023row3_col9 {\n",
       "            background-color :  grey;\n",
       "        }    #T_33ecd850_44f5_11ee_a310_0242ac120023row3_col10 {\n",
       "            background-color :  grey;\n",
       "        }    #T_33ecd850_44f5_11ee_a310_0242ac120023row3_col11 {\n",
       "            background-color :  grey;\n",
       "        }    #T_33ecd850_44f5_11ee_a310_0242ac120023row4_col1 {\n",
       "            background-color :  grey;\n",
       "        }    #T_33ecd850_44f5_11ee_a310_0242ac120023row4_col2 {\n",
       "            background-color :  grey;\n",
       "        }    #T_33ecd850_44f5_11ee_a310_0242ac120023row4_col3 {\n",
       "            background-color :  grey;\n",
       "        }    #T_33ecd850_44f5_11ee_a310_0242ac120023row4_col4 {\n",
       "            background-color :  grey;\n",
       "        }    #T_33ecd850_44f5_11ee_a310_0242ac120023row4_col5 {\n",
       "            background-color :  grey;\n",
       "        }    #T_33ecd850_44f5_11ee_a310_0242ac120023row4_col6 {\n",
       "            background-color :  grey;\n",
       "        }    #T_33ecd850_44f5_11ee_a310_0242ac120023row4_col7 {\n",
       "            background-color :  grey;\n",
       "        }    #T_33ecd850_44f5_11ee_a310_0242ac120023row4_col8 {\n",
       "            background-color :  grey;\n",
       "        }    #T_33ecd850_44f5_11ee_a310_0242ac120023row4_col9 {\n",
       "            background-color :  grey;\n",
       "        }    #T_33ecd850_44f5_11ee_a310_0242ac120023row4_col10 {\n",
       "            background-color :  grey;\n",
       "        }    #T_33ecd850_44f5_11ee_a310_0242ac120023row4_col11 {\n",
       "            background-color :  grey;\n",
       "        }</style><table id=\"T_33ecd850_44f5_11ee_a310_0242ac120023\" ><thead>    <tr>        <th class=\"blank level0\" ></th>        <th class=\"col_heading level0 col0\" ></th>        <th class=\"col_heading level0 col1\" colspan=8>State Vector</th>        <th class=\"col_heading level0 col9\" colspan=3>Derived from the State Vector (the closer to zero, the better)</th>    </tr>    <tr>        <th class=\"blank level1\" ></th>        <th class=\"col_heading level1 col0\" ></th>        <th class=\"col_heading level1 col1\" colspan=2>Coordinate</th>        <th class=\"col_heading level1 col3\" colspan=2>Velocity</th>        <th class=\"col_heading level1 col5\" colspan=2>Tilting</th>        <th class=\"col_heading level1 col7\" colspan=2>Ground contact</th>        <th class=\"col_heading level1 col9\" >Distance from landing pad</th>        <th class=\"col_heading level1 col10\" >Velocity</th>        <th class=\"col_heading level1 col11\" >Tilting Angle (absolute value)</th>    </tr>    <tr>        <th class=\"blank level2\" ></th>        <th class=\"col_heading level2 col0\" ></th>        <th class=\"col_heading level2 col1\" >X (Horizontal)</th>        <th class=\"col_heading level2 col2\" >Y (Vertical)</th>        <th class=\"col_heading level2 col3\" >X (Horizontal)</th>        <th class=\"col_heading level2 col4\" >Y (Vertical)</th>        <th class=\"col_heading level2 col5\" >Angle</th>        <th class=\"col_heading level2 col6\" >Angular Velocity</th>        <th class=\"col_heading level2 col7\" >Left Leg?</th>        <th class=\"col_heading level2 col8\" >Right Leg?</th>        <th class=\"col_heading level2 col9\" ></th>        <th class=\"col_heading level2 col10\" ></th>        <th class=\"col_heading level2 col11\" ></th>    </tr></thead><tbody>\n",
       "                <tr>\n",
       "                        <th id=\"T_33ecd850_44f5_11ee_a310_0242ac120023level0_row0\" class=\"row_heading level0 row0\" >Current State</th>\n",
       "                        <td id=\"T_33ecd850_44f5_11ee_a310_0242ac120023row0_col0\" class=\"data row0 col0\" ></td>\n",
       "                        <td id=\"T_33ecd850_44f5_11ee_a310_0242ac120023row0_col1\" class=\"data row0 col1\" >0.001919</td>\n",
       "                        <td id=\"T_33ecd850_44f5_11ee_a310_0242ac120023row0_col2\" class=\"data row0 col2\" >1.422301</td>\n",
       "                        <td id=\"T_33ecd850_44f5_11ee_a310_0242ac120023row0_col3\" class=\"data row0 col3\" >0.194400</td>\n",
       "                        <td id=\"T_33ecd850_44f5_11ee_a310_0242ac120023row0_col4\" class=\"data row0 col4\" >0.505814</td>\n",
       "                        <td id=\"T_33ecd850_44f5_11ee_a310_0242ac120023row0_col5\" class=\"data row0 col5\" >-0.002217</td>\n",
       "                        <td id=\"T_33ecd850_44f5_11ee_a310_0242ac120023row0_col6\" class=\"data row0 col6\" >-0.044034</td>\n",
       "                        <td id=\"T_33ecd850_44f5_11ee_a310_0242ac120023row0_col7\" class=\"data row0 col7\" >False</td>\n",
       "                        <td id=\"T_33ecd850_44f5_11ee_a310_0242ac120023row0_col8\" class=\"data row0 col8\" >False</td>\n",
       "                        <td id=\"T_33ecd850_44f5_11ee_a310_0242ac120023row0_col9\" class=\"data row0 col9\" >1.422302</td>\n",
       "                        <td id=\"T_33ecd850_44f5_11ee_a310_0242ac120023row0_col10\" class=\"data row0 col10\" >0.541885</td>\n",
       "                        <td id=\"T_33ecd850_44f5_11ee_a310_0242ac120023row0_col11\" class=\"data row0 col11\" >0.002217</td>\n",
       "            </tr>\n",
       "            <tr>\n",
       "                        <th id=\"T_33ecd850_44f5_11ee_a310_0242ac120023level0_row1\" class=\"row_heading level0 row1\" >Action</th>\n",
       "                        <td id=\"T_33ecd850_44f5_11ee_a310_0242ac120023row1_col0\" class=\"data row1 col0\" >Do nothing</td>\n",
       "                        <td id=\"T_33ecd850_44f5_11ee_a310_0242ac120023row1_col1\" class=\"data row1 col1\" ></td>\n",
       "                        <td id=\"T_33ecd850_44f5_11ee_a310_0242ac120023row1_col2\" class=\"data row1 col2\" ></td>\n",
       "                        <td id=\"T_33ecd850_44f5_11ee_a310_0242ac120023row1_col3\" class=\"data row1 col3\" ></td>\n",
       "                        <td id=\"T_33ecd850_44f5_11ee_a310_0242ac120023row1_col4\" class=\"data row1 col4\" ></td>\n",
       "                        <td id=\"T_33ecd850_44f5_11ee_a310_0242ac120023row1_col5\" class=\"data row1 col5\" ></td>\n",
       "                        <td id=\"T_33ecd850_44f5_11ee_a310_0242ac120023row1_col6\" class=\"data row1 col6\" ></td>\n",
       "                        <td id=\"T_33ecd850_44f5_11ee_a310_0242ac120023row1_col7\" class=\"data row1 col7\" ></td>\n",
       "                        <td id=\"T_33ecd850_44f5_11ee_a310_0242ac120023row1_col8\" class=\"data row1 col8\" ></td>\n",
       "                        <td id=\"T_33ecd850_44f5_11ee_a310_0242ac120023row1_col9\" class=\"data row1 col9\" ></td>\n",
       "                        <td id=\"T_33ecd850_44f5_11ee_a310_0242ac120023row1_col10\" class=\"data row1 col10\" ></td>\n",
       "                        <td id=\"T_33ecd850_44f5_11ee_a310_0242ac120023row1_col11\" class=\"data row1 col11\" ></td>\n",
       "            </tr>\n",
       "            <tr>\n",
       "                        <th id=\"T_33ecd850_44f5_11ee_a310_0242ac120023level0_row2\" class=\"row_heading level0 row2\" >Next State</th>\n",
       "                        <td id=\"T_33ecd850_44f5_11ee_a310_0242ac120023row2_col0\" class=\"data row2 col0\" ></td>\n",
       "                        <td id=\"T_33ecd850_44f5_11ee_a310_0242ac120023row2_col1\" class=\"data row2 col1\" >0.003839</td>\n",
       "                        <td id=\"T_33ecd850_44f5_11ee_a310_0242ac120023row2_col2\" class=\"data row2 col2\" >1.433103</td>\n",
       "                        <td id=\"T_33ecd850_44f5_11ee_a310_0242ac120023row2_col3\" class=\"data row2 col3\" >0.194137</td>\n",
       "                        <td id=\"T_33ecd850_44f5_11ee_a310_0242ac120023row2_col4\" class=\"data row2 col4\" >0.480094</td>\n",
       "                        <td id=\"T_33ecd850_44f5_11ee_a310_0242ac120023row2_col5\" class=\"data row2 col5\" >-0.004393</td>\n",
       "                        <td id=\"T_33ecd850_44f5_11ee_a310_0242ac120023row2_col6\" class=\"data row2 col6\" >-0.043519</td>\n",
       "                        <td id=\"T_33ecd850_44f5_11ee_a310_0242ac120023row2_col7\" class=\"data row2 col7\" >False</td>\n",
       "                        <td id=\"T_33ecd850_44f5_11ee_a310_0242ac120023row2_col8\" class=\"data row2 col8\" >False</td>\n",
       "                        <td id=\"T_33ecd850_44f5_11ee_a310_0242ac120023row2_col9\" class=\"data row2 col9\" >1.433108</td>\n",
       "                        <td id=\"T_33ecd850_44f5_11ee_a310_0242ac120023row2_col10\" class=\"data row2 col10\" >0.517860</td>\n",
       "                        <td id=\"T_33ecd850_44f5_11ee_a310_0242ac120023row2_col11\" class=\"data row2 col11\" >0.004393</td>\n",
       "            </tr>\n",
       "            <tr>\n",
       "                        <th id=\"T_33ecd850_44f5_11ee_a310_0242ac120023level0_row3\" class=\"row_heading level0 row3\" >Reward</th>\n",
       "                        <td id=\"T_33ecd850_44f5_11ee_a310_0242ac120023row3_col0\" class=\"data row3 col0\" >1.104326</td>\n",
       "                        <td id=\"T_33ecd850_44f5_11ee_a310_0242ac120023row3_col1\" class=\"data row3 col1\" ></td>\n",
       "                        <td id=\"T_33ecd850_44f5_11ee_a310_0242ac120023row3_col2\" class=\"data row3 col2\" ></td>\n",
       "                        <td id=\"T_33ecd850_44f5_11ee_a310_0242ac120023row3_col3\" class=\"data row3 col3\" ></td>\n",
       "                        <td id=\"T_33ecd850_44f5_11ee_a310_0242ac120023row3_col4\" class=\"data row3 col4\" ></td>\n",
       "                        <td id=\"T_33ecd850_44f5_11ee_a310_0242ac120023row3_col5\" class=\"data row3 col5\" ></td>\n",
       "                        <td id=\"T_33ecd850_44f5_11ee_a310_0242ac120023row3_col6\" class=\"data row3 col6\" ></td>\n",
       "                        <td id=\"T_33ecd850_44f5_11ee_a310_0242ac120023row3_col7\" class=\"data row3 col7\" ></td>\n",
       "                        <td id=\"T_33ecd850_44f5_11ee_a310_0242ac120023row3_col8\" class=\"data row3 col8\" ></td>\n",
       "                        <td id=\"T_33ecd850_44f5_11ee_a310_0242ac120023row3_col9\" class=\"data row3 col9\" ></td>\n",
       "                        <td id=\"T_33ecd850_44f5_11ee_a310_0242ac120023row3_col10\" class=\"data row3 col10\" ></td>\n",
       "                        <td id=\"T_33ecd850_44f5_11ee_a310_0242ac120023row3_col11\" class=\"data row3 col11\" ></td>\n",
       "            </tr>\n",
       "            <tr>\n",
       "                        <th id=\"T_33ecd850_44f5_11ee_a310_0242ac120023level0_row4\" class=\"row_heading level0 row4\" >Episode Terminated</th>\n",
       "                        <td id=\"T_33ecd850_44f5_11ee_a310_0242ac120023row4_col0\" class=\"data row4 col0\" >False</td>\n",
       "                        <td id=\"T_33ecd850_44f5_11ee_a310_0242ac120023row4_col1\" class=\"data row4 col1\" ></td>\n",
       "                        <td id=\"T_33ecd850_44f5_11ee_a310_0242ac120023row4_col2\" class=\"data row4 col2\" ></td>\n",
       "                        <td id=\"T_33ecd850_44f5_11ee_a310_0242ac120023row4_col3\" class=\"data row4 col3\" ></td>\n",
       "                        <td id=\"T_33ecd850_44f5_11ee_a310_0242ac120023row4_col4\" class=\"data row4 col4\" ></td>\n",
       "                        <td id=\"T_33ecd850_44f5_11ee_a310_0242ac120023row4_col5\" class=\"data row4 col5\" ></td>\n",
       "                        <td id=\"T_33ecd850_44f5_11ee_a310_0242ac120023row4_col6\" class=\"data row4 col6\" ></td>\n",
       "                        <td id=\"T_33ecd850_44f5_11ee_a310_0242ac120023row4_col7\" class=\"data row4 col7\" ></td>\n",
       "                        <td id=\"T_33ecd850_44f5_11ee_a310_0242ac120023row4_col8\" class=\"data row4 col8\" ></td>\n",
       "                        <td id=\"T_33ecd850_44f5_11ee_a310_0242ac120023row4_col9\" class=\"data row4 col9\" ></td>\n",
       "                        <td id=\"T_33ecd850_44f5_11ee_a310_0242ac120023row4_col10\" class=\"data row4 col10\" ></td>\n",
       "                        <td id=\"T_33ecd850_44f5_11ee_a310_0242ac120023row4_col11\" class=\"data row4 col11\" ></td>\n",
       "            </tr>\n",
       "    </tbody></table>"
      ],
      "text/plain": [
       "<pandas.io.formats.style.Styler at 0x7f1367c69a50>"
      ]
     },
     "metadata": {},
     "output_type": "display_data"
    }
   ],
   "source": [
    "# Select an action\n",
    "action = 0\n",
    "\n",
    "# Run a single time step of the environment's dynamics with the given action.\n",
    "next_state, reward, done, _ = env.step(action)\n",
    "\n",
    "# Display table with values.\n",
    "utils.display_table(current_state, action, next_state, reward, done)\n",
    "\n",
    "# Replace the `current_state` with the state after the action is taken\n",
    "current_state = next_state"
   ]
  },
  {
   "cell_type": "markdown",
   "metadata": {},
   "source": [
    "In practice, when we train the agent we use a loop to allow the agent to take many consecutive actions during an episode."
   ]
  },
  {
   "cell_type": "markdown",
   "metadata": {},
   "source": [
    "<a name=\"6\"></a>\n",
    "## 6 - Deep Q-Learning\n",
    "\n",
    "In cases where both the state and action space are discrete we can estimate the action-value function iteratively by using the Bellman equation:\n",
    "\n",
    "$$\n",
    "Q_{i+1}(s,a) = R + \\gamma \\max_{a'}Q_i(s',a')\n",
    "$$\n",
    "\n",
    "This iterative method converges to the optimal action-value function $Q^*(s,a)$ as $i\\to\\infty$. This means that the agent just needs to gradually explore the state-action space and keep updating the estimate of $Q(s,a)$ until it converges to the optimal action-value function $Q^*(s,a)$. However, in cases where the state space is continuous it becomes practically impossible to explore the entire state-action space. Consequently, this also makes it practically impossible to gradually estimate $Q(s,a)$ until it converges to $Q^*(s,a)$.\n",
    "\n",
    "In the Deep $Q$-Learning, we solve this problem by using a neural network to estimate the action-value function $Q(s,a)\\approx Q^*(s,a)$. We call this neural network a $Q$-Network and it can be trained by adjusting its weights at each iteration to minimize the mean-squared error in the Bellman equation.\n",
    "\n",
    "Unfortunately, using neural networks in reinforcement learning to estimate action-value functions has proven to be highly unstable. Luckily, there's a couple of techniques that can be employed to avoid instabilities. These techniques consist of using a ***Target Network*** and ***Experience Replay***. We will explore these two techniques in the following sections."
   ]
  },
  {
   "cell_type": "markdown",
   "metadata": {},
   "source": [
    "<a name=\"6.1\"></a>\n",
    "### 6.1 Target Network\n",
    "\n",
    "We can train the $Q$-Network by adjusting it's weights at each iteration to minimize the mean-squared error in the Bellman equation, where the target values are given by:\n",
    "\n",
    "$$\n",
    "y = R + \\gamma \\max_{a'}Q(s',a';w)\n",
    "$$\n",
    "\n",
    "where $w$ are the weights of the $Q$-Network. This means that we are adjusting the weights $w$ at each iteration to minimize the following error:\n",
    "\n",
    "$$\n",
    "\\overbrace{\\underbrace{R + \\gamma \\max_{a'}Q(s',a'; w)}_{\\rm {y~target}} - Q(s,a;w)}^{\\rm {Error}}\n",
    "$$\n",
    "\n",
    "Notice that this forms a problem because the $y$ target is changing on every iteration. Having a constantly moving target can lead to oscillations and instabilities. To avoid this, we can create\n",
    "a separate neural network for generating the $y$ targets. We call this separate neural network the **target $\\hat Q$-Network** and it will have the same architecture as the original $Q$-Network. By using the target $\\hat Q$-Network, the above error becomes:\n",
    "\n",
    "$$\n",
    "\\overbrace{\\underbrace{R + \\gamma \\max_{a'}\\hat{Q}(s',a'; w^-)}_{\\rm {y~target}} - Q(s,a;w)}^{\\rm {Error}}\n",
    "$$\n",
    "\n",
    "where $w^-$ and $w$ are the weights of the target $\\hat Q$-Network and $Q$-Network, respectively.\n",
    "\n",
    "In practice, we will use the following algorithm: every $C$ time steps we will use the $\\hat Q$-Network to generate the $y$ targets and update the weights of the target $\\hat Q$-Network using the weights of the $Q$-Network. We will update the weights $w^-$ of the the target $\\hat Q$-Network using a **soft update**. This means that we will update the weights $w^-$ using the following rule:\n",
    " \n",
    "$$\n",
    "w^-\\leftarrow \\tau w + (1 - \\tau) w^-\n",
    "$$\n",
    "\n",
    "where $\\tau\\ll 1$. By using the soft update, we are ensuring that the target values, $y$, change slowly, which greatly improves the stability of our learning algorithm."
   ]
  },
  {
   "cell_type": "markdown",
   "metadata": {},
   "source": [
    "<a name=\"ex01\"></a>\n",
    "### Exercise 1\n",
    "\n",
    "In this exercise you will create the $Q$ and target $\\hat Q$ networks and set the optimizer. Remember that the Deep $Q$-Network (DQN) is a neural network that approximates the action-value function $Q(s,a)\\approx Q^*(s,a)$. It does this by learning how to map states to $Q$ values.\n",
    "\n",
    "To solve the Lunar Lander environment, we are going to employ a DQN with the following architecture:\n",
    "\n",
    "* An `Input` layer that takes `state_size` as input.\n",
    "\n",
    "* A `Dense` layer with `64` units and a `relu` activation function.\n",
    "\n",
    "* A `Dense` layer with `64` units and a `relu` activation function.\n",
    "\n",
    "* A `Dense` layer with `num_actions` units and a `linear` activation function. This will be the output layer of our network.\n",
    "\n",
    "\n",
    "In the cell below you should create the $Q$-Network and the target $\\hat Q$-Network using the model architecture described above. Remember that both the $Q$-Network and the target $\\hat Q$-Network have the same architecture.\n",
    "\n",
    "Lastly, you should set `Adam` as the optimizer with a learning rate equal to `ALPHA`. Recall that `ALPHA` was defined in the [Hyperparameters](#2) section. We should note that for this exercise you should use the already imported packages:\n",
    "```python\n",
    "from tensorflow.keras.layers import Dense, Input\n",
    "from tensorflow.keras.optimizers import Adam\n",
    "```"
   ]
  },
  {
   "cell_type": "code",
   "execution_count": 25,
   "metadata": {
    "deletable": false
   },
   "outputs": [],
   "source": [
    "# UNQ_C1\n",
    "# GRADED CELL\n",
    "\n",
    "# Create the Q-Network\n",
    "q_network = Sequential([\n",
    "    ### START CODE HERE ### \n",
    "    Input(shape=state_size),                      \n",
    "    Dense(units=64, activation='relu'),            \n",
    "    Dense(units=64, activation='relu'),            \n",
    "    Dense(units=num_actions, activation='linear'),    \n",
    "    \n",
    "    \n",
    "    \n",
    "    ### END CODE HERE ### \n",
    "    ])\n",
    "\n",
    "# Create the target Q^-Network\n",
    "target_q_network = Sequential([\n",
    "    ### START CODE HERE ### \n",
    "    Input(shape=state_size),                      \n",
    "    Dense(units=64, activation='relu'),            \n",
    "    Dense(units=64, activation='relu'),            \n",
    "    Dense(units=num_actions, activation='linear'),   \n",
    "    \n",
    "    \n",
    "    \n",
    "    ### END CODE HERE ###\n",
    "    ])\n",
    "\n",
    "### START CODE HERE ### \n",
    "optimizer = Adam(learning_rate=ALPHA)\n",
    "### END CODE HERE ###"
   ]
  },
  {
   "cell_type": "code",
   "execution_count": 26,
   "metadata": {
    "deletable": false,
    "editable": false
   },
   "outputs": [
    {
     "name": "stdout",
     "output_type": "stream",
     "text": [
      "\u001b[92mAll tests passed!\n",
      "\u001b[92mAll tests passed!\n",
      "\u001b[92mAll tests passed!\n"
     ]
    }
   ],
   "source": [
    "# UNIT TEST\n",
    "from public_tests import *\n",
    "\n",
    "test_network(q_network)\n",
    "test_network(target_q_network)\n",
    "test_optimizer(optimizer, ALPHA) "
   ]
  },
  {
   "cell_type": "markdown",
   "metadata": {},
   "source": [
    "<details>\n",
    "  <summary><font size=\"3\" color=\"darkgreen\"><b>Click for hints</b></font></summary>\n",
    "    \n",
    "```python\n",
    "# Create the Q-Network\n",
    "q_network = Sequential([\n",
    "    Input(shape=state_size),                      \n",
    "    Dense(units=64, activation='relu'),            \n",
    "    Dense(units=64, activation='relu'),            \n",
    "    Dense(units=num_actions, activation='linear'),\n",
    "    ])\n",
    "\n",
    "# Create the target Q^-Network\n",
    "target_q_network = Sequential([\n",
    "    Input(shape=state_size),                       \n",
    "    Dense(units=64, activation='relu'),            \n",
    "    Dense(units=64, activation='relu'),            \n",
    "    Dense(units=num_actions, activation='linear'), \n",
    "    ])\n",
    "\n",
    "optimizer = Adam(learning_rate=ALPHA)                                  \n",
    "``` "
   ]
  },
  {
   "cell_type": "markdown",
   "metadata": {},
   "source": [
    "<a name=\"6.2\"></a>\n",
    "### 6.2 Experience Replay\n",
    "\n",
    "When an agent interacts with the environment, the states, actions, and rewards the agent experiences are sequential by nature. If the agent tries to learn from these consecutive experiences it can run into problems due to the strong correlations between them. To avoid this, we employ a technique known as **Experience Replay** to generate uncorrelated experiences for training our agent. Experience replay consists of storing the agent's experiences (i.e the states, actions, and rewards the agent receives) in a memory buffer and then sampling a random mini-batch of experiences from the buffer to do the learning. The experience tuples $(S_t, A_t, R_t, S_{t+1})$ will be added to the memory buffer at each time step as the agent interacts with the environment.\n",
    "\n",
    "For convenience, we will store the experiences as named tuples."
   ]
  },
  {
   "cell_type": "code",
   "execution_count": 27,
   "metadata": {
    "deletable": false,
    "editable": false
   },
   "outputs": [],
   "source": [
    "# Store experiences as named tuples\n",
    "experience = namedtuple(\"Experience\", field_names=[\"state\", \"action\", \"reward\", \"next_state\", \"done\"])"
   ]
  },
  {
   "cell_type": "markdown",
   "metadata": {},
   "source": [
    "By using experience replay we avoid problematic correlations, oscillations and instabilities. In addition, experience replay also allows the agent to potentially use the same experience in multiple weight updates, which increases data efficiency."
   ]
  },
  {
   "cell_type": "markdown",
   "metadata": {},
   "source": [
    "<a name=\"7\"></a>\n",
    "## 7 - Deep Q-Learning Algorithm with Experience Replay\n",
    "\n",
    "Now that we know all the techniques that we are going to use, we can put them together to arrive at the Deep Q-Learning Algorithm With Experience Replay.\n",
    "<br>\n",
    "<br>\n",
    "<figure>\n",
    "  <img src = \"images/deep_q_algorithm.png\" width = 90% style = \"border: thin silver solid; padding: 0px\">\n",
    "      <figcaption style = \"text-align: center; font-style: italic\">Fig 3. Deep Q-Learning with Experience Replay.</figcaption>\n",
    "</figure>"
   ]
  },
  {
   "cell_type": "markdown",
   "metadata": {},
   "source": [
    "<a name=\"ex02\"></a>\n",
    "### Exercise 2\n",
    "\n",
    "In this exercise you will implement line ***12*** of the algorithm outlined in *Fig 3* above and you will also compute the loss between the $y$ targets and the $Q(s,a)$ values. In the cell below, complete the `compute_loss` function by setting the $y$ targets equal to:\n",
    "\n",
    "$$\n",
    "\\begin{equation}\n",
    "    y_j =\n",
    "    \\begin{cases}\n",
    "      R_j & \\text{if episode terminates at step  } j+1\\\\\n",
    "      R_j + \\gamma \\max_{a'}\\hat{Q}(s_{j+1},a') & \\text{otherwise}\\\\\n",
    "    \\end{cases}       \n",
    "\\end{equation}\n",
    "$$\n",
    "\n",
    "Here are a couple of things to note:\n",
    "\n",
    "* The `compute_loss` function takes in a mini-batch of experience tuples. This mini-batch of experience tuples is unpacked to extract the `states`, `actions`, `rewards`, `next_states`, and `done_vals`. You should keep in mind that these variables are *TensorFlow Tensors* whose size will depend on the mini-batch size. For example, if the mini-batch size is `64` then both `rewards` and `done_vals` will be TensorFlow Tensors with `64` elements.\n",
    "\n",
    "\n",
    "* Using `if/else` statements to set the $y$ targets will not work when the variables are tensors with many elements. However, notice that you can use the `done_vals` to implement the above in a single line of code. To do this, recall that the `done` variable is a Boolean variable that takes the value `True` when an episode terminates at step $j+1$ and it is `False` otherwise. Taking into account that a Boolean value of `True` has the numerical value of `1` and a Boolean value of `False` has the numerical value of `0`, you can use the factor `(1 - done_vals)` to implement the above in a single line of code. Here's a hint: notice that `(1 - done_vals)` has a value of `0` when `done_vals` is `True` and a value of `1` when `done_vals` is `False`. \n",
    "\n",
    "Lastly, compute the loss by calculating the Mean-Squared Error (`MSE`) between the `y_targets` and the `q_values`. To calculate the mean-squared error you should use the already imported package `MSE`:\n",
    "```python\n",
    "from tensorflow.keras.losses import MSE\n",
    "```"
   ]
  },
  {
   "cell_type": "code",
   "execution_count": 28,
   "metadata": {
    "deletable": false
   },
   "outputs": [],
   "source": [
    "# UNQ_C2\n",
    "# GRADED FUNCTION: calculate_loss\n",
    "\n",
    "def compute_loss(experiences, gamma, q_network, target_q_network):\n",
    "    \"\"\" \n",
    "    Calculates the loss.\n",
    "    \n",
    "    Args:\n",
    "      experiences: (tuple) tuple of [\"state\", \"action\", \"reward\", \"next_state\", \"done\"] namedtuples\n",
    "      gamma: (float) The discount factor.\n",
    "      q_network: (tf.keras.Sequential) Keras model for predicting the q_values\n",
    "      target_q_network: (tf.keras.Sequential) Keras model for predicting the targets\n",
    "          \n",
    "    Returns:\n",
    "      loss: (TensorFlow Tensor(shape=(0,), dtype=int32)) the Mean-Squared Error between\n",
    "            the y targets and the Q(s,a) values.\n",
    "    \"\"\"\n",
    "\n",
    "    # Unpack the mini-batch of experience tuples\n",
    "    states, actions, rewards, next_states, done_vals = experiences\n",
    "    \n",
    "    # Compute max Q^(s,a)\n",
    "    max_qsa = tf.reduce_max(target_q_network(next_states), axis=-1)\n",
    "    \n",
    "    # Set y = R if episode terminates, otherwise set y = R + γ max Q^(s,a).\n",
    "    ### START CODE HERE ### \n",
    "    y_targets = rewards + (gamma * max_qsa * (1 - done_vals))\n",
    "    ### END CODE HERE ###\n",
    "    \n",
    "    # Get the q_values and reshape to match y_targets\n",
    "    q_values = q_network(states)\n",
    "    q_values = tf.gather_nd(q_values, tf.stack([tf.range(q_values.shape[0]),\n",
    "                                                tf.cast(actions, tf.int32)], axis=1))\n",
    "        \n",
    "    # Compute the loss\n",
    "    ### START CODE HERE ### \n",
    "    loss = MSE(y_targets, q_values)\n",
    "    ### END CODE HERE ### \n",
    "    \n",
    "    return loss"
   ]
  },
  {
   "cell_type": "code",
   "execution_count": 29,
   "metadata": {
    "deletable": false,
    "editable": false
   },
   "outputs": [
    {
     "name": "stdout",
     "output_type": "stream",
     "text": [
      "\u001b[92mAll tests passed!\n"
     ]
    }
   ],
   "source": [
    "# UNIT TEST    \n",
    "test_compute_loss(compute_loss)"
   ]
  },
  {
   "cell_type": "markdown",
   "metadata": {},
   "source": [
    "<details>\n",
    "  <summary><font size=\"3\" color=\"darkgreen\"><b>Click for hints</b></font></summary>\n",
    "    \n",
    "```python\n",
    "def compute_loss(experiences, gamma, q_network, target_q_network):\n",
    "    \"\"\" \n",
    "    Calculates the loss.\n",
    "    \n",
    "    Args:\n",
    "      experiences: (tuple) tuple of [\"state\", \"action\", \"reward\", \"next_state\", \"done\"] namedtuples\n",
    "      gamma: (float) The discount factor.\n",
    "      q_network: (tf.keras.Sequential) Keras model for predicting the q_values\n",
    "      target_q_network: (tf.keras.Sequential) Keras model for predicting the targets\n",
    "          \n",
    "    Returns:\n",
    "      loss: (TensorFlow Tensor(shape=(0,), dtype=int32)) the Mean-Squared Error between\n",
    "            the y targets and the Q(s,a) values.\n",
    "    \"\"\"\n",
    "\n",
    "    \n",
    "    # Unpack the mini-batch of experience tuples\n",
    "    states, actions, rewards, next_states, done_vals = experiences\n",
    "    \n",
    "    # Compute max Q^(s,a)\n",
    "    max_qsa = tf.reduce_max(target_q_network(next_states), axis=-1)\n",
    "    \n",
    "    # Set y = R if episode terminates, otherwise set y = R + γ max Q^(s,a).\n",
    "    y_targets = rewards + (gamma * max_qsa * (1 - done_vals))\n",
    "    \n",
    "    # Get the q_values\n",
    "    q_values = q_network(states)\n",
    "    q_values = tf.gather_nd(q_values, tf.stack([tf.range(q_values.shape[0]),\n",
    "                                                tf.cast(actions, tf.int32)], axis=1))\n",
    "    \n",
    "    # Calculate the loss\n",
    "    loss = MSE(y_targets, q_values)\n",
    "    \n",
    "    return loss\n",
    "\n",
    "``` \n",
    "    "
   ]
  },
  {
   "cell_type": "markdown",
   "metadata": {},
   "source": [
    "<a name=\"8\"></a>\n",
    "## 8 - Update the Network Weights\n",
    "\n",
    "We will use the `agent_learn` function below to implement lines ***12 -14*** of the algorithm outlined in [Fig 3](#7). The `agent_learn` function will update the weights of the $Q$ and target $\\hat Q$ networks using a custom training loop. Because we are using a custom training loop we need to retrieve the gradients via a `tf.GradientTape` instance, and then call `optimizer.apply_gradients()` to update the weights of our $Q$-Network. Note that we are also using the `@tf.function` decorator to increase performance. Without this decorator our training will take twice as long. If you would like to know more about how to increase performance with `@tf.function` take a look at the [TensorFlow documentation](https://www.tensorflow.org/guide/function).\n",
    "\n",
    "The last line of this function updates the weights of the target $\\hat Q$-Network using a [soft update](#6.1). If you want to know how this is implemented in code we encourage you to take a look at the `utils.update_target_network` function in the `utils` module."
   ]
  },
  {
   "cell_type": "code",
   "execution_count": 30,
   "metadata": {
    "deletable": false,
    "editable": false
   },
   "outputs": [],
   "source": [
    "@tf.function\n",
    "def agent_learn(experiences, gamma):\n",
    "    \"\"\"\n",
    "    Updates the weights of the Q networks.\n",
    "    \n",
    "    Args:\n",
    "      experiences: (tuple) tuple of [\"state\", \"action\", \"reward\", \"next_state\", \"done\"] namedtuples\n",
    "      gamma: (float) The discount factor.\n",
    "    \n",
    "    \"\"\"\n",
    "    \n",
    "    # Calculate the loss\n",
    "    with tf.GradientTape() as tape:\n",
    "        loss = compute_loss(experiences, gamma, q_network, target_q_network)\n",
    "\n",
    "    # Get the gradients of the loss with respect to the weights.\n",
    "    gradients = tape.gradient(loss, q_network.trainable_variables)\n",
    "    \n",
    "    # Update the weights of the q_network.\n",
    "    optimizer.apply_gradients(zip(gradients, q_network.trainable_variables))\n",
    "\n",
    "    # update the weights of target q_network\n",
    "    utils.update_target_network(q_network, target_q_network)"
   ]
  },
  {
   "cell_type": "markdown",
   "metadata": {},
   "source": [
    "<a name=\"9\"></a>\n",
    "## 9 - Train the Agent\n",
    "\n",
    "We are now ready to train our agent to solve the Lunar Lander environment. In the cell below we will implement the algorithm in [Fig 3](#7) line by line (please note that we have included the same algorithm below for easy reference. This will prevent you from scrolling up and down the notebook):\n",
    "\n",
    "* **Line 1**: We initialize the `memory_buffer` with a capacity of $N =$ `MEMORY_SIZE`. Notice that we are using a `deque` as the data structure for our `memory_buffer`.\n",
    "\n",
    "\n",
    "* **Line 2**: We skip this line since we already initialized the `q_network` in [Exercise 1](#ex01).\n",
    "\n",
    "\n",
    "* **Line 3**: We initialize the `target_q_network` by setting its weights to be equal to those of the `q_network`.\n",
    "\n",
    "\n",
    "* **Line 4**: We start the outer loop. Notice that we have set $M =$ `num_episodes = 2000`. This number is reasonable because the agent should be able to solve the Lunar Lander environment in less than `2000` episodes using this notebook's default parameters.\n",
    "\n",
    "\n",
    "* **Line 5**: We use the `.reset()` method to reset the environment to the initial state and get the initial state.\n",
    "\n",
    "\n",
    "* **Line 6**: We start the inner loop. Notice that we have set $T =$ `max_num_timesteps = 1000`. This means that the episode will automatically terminate if the episode hasn't terminated after `1000` time steps.\n",
    "\n",
    "\n",
    "* **Line 7**: The agent observes the current `state` and chooses an `action` using an $\\epsilon$-greedy policy. Our agent starts out using a value of $\\epsilon =$ `epsilon = 1` which yields an $\\epsilon$-greedy policy that is equivalent to the equiprobable random policy. This means that at the beginning of our training, the agent is just going to take random actions regardless of the observed `state`. As training progresses we will decrease the value of $\\epsilon$ slowly towards a minimum value using a given $\\epsilon$-decay rate. We want this minimum value to be close to zero because a value of $\\epsilon = 0$ will yield an $\\epsilon$-greedy policy that is equivalent to the greedy policy. This means that towards the end of training, the agent will lean towards selecting the `action` that it believes (based on its past experiences) will maximize $Q(s,a)$. We will set the minimum $\\epsilon$ value to be `0.01` and not exactly 0 because we always want to keep a little bit of exploration during training. If you want to know how this is implemented in code we encourage you to take a look at the `utils.get_action` function in the `utils` module.\n",
    "\n",
    "\n",
    "* **Line 8**: We use the `.step()` method to take the given `action` in the environment and get the `reward` and the `next_state`. \n",
    "\n",
    "\n",
    "* **Line 9**: We store the `experience(state, action, reward, next_state, done)` tuple in our `memory_buffer`. Notice that we also store the `done` variable so that we can keep track of when an episode terminates. This allowed us to set the $y$ targets in [Exercise 2](#ex02).\n",
    "\n",
    "\n",
    "* **Line 10**: We check if the conditions are met to perform a learning update. We do this by using our custom `utils.check_update_conditions` function. This function checks if $C =$ `NUM_STEPS_FOR_UPDATE = 4` time steps have occured and if our `memory_buffer` has enough experience tuples to fill a mini-batch. For example, if the mini-batch size is `64`, then our `memory_buffer` should have more than `64` experience tuples in order to pass the latter condition. If the conditions are met, then the `utils.check_update_conditions` function will return a value of `True`, otherwise it will return a value of `False`.\n",
    "\n",
    "\n",
    "* **Lines 11 - 14**: If the `update` variable is `True` then we perform a learning update. The learning update consists of sampling a random mini-batch of experience tuples from our `memory_buffer`, setting the $y$ targets, performing gradient descent, and updating the weights of the networks. We will use the `agent_learn` function we defined in [Section 8](#8) to perform the latter 3.\n",
    "\n",
    "\n",
    "* **Line 15**: At the end of each iteration of the inner loop we set `next_state` as our new `state` so that the loop can start again from this new state. In addition, we check if the episode has reached a terminal state (i.e we check if `done = True`). If a terminal state has been reached, then we break out of the inner loop.\n",
    "\n",
    "\n",
    "* **Line 16**: At the end of each iteration of the outer loop we update the value of $\\epsilon$, and check if the environment has been solved. We consider that the environment has been solved if the agent receives an average of `200` points in the last `100` episodes. If the environment has not been solved we continue the outer loop and start a new episode.\n",
    "\n",
    "Finally, we wanted to note that we have included some extra variables to keep track of the total number of points the agent received in each episode. This will help us determine if the agent has solved the environment and it will also allow us to see how our agent performed during training. We also use the `time` module to measure how long the training takes. \n",
    "\n",
    "<br>\n",
    "<br>\n",
    "<figure>\n",
    "  <img src = \"images/deep_q_algorithm.png\" width = 90% style = \"border: thin silver solid; padding: 0px\">\n",
    "      <figcaption style = \"text-align: center; font-style: italic\">Fig 4. Deep Q-Learning with Experience Replay.</figcaption>\n",
    "</figure>\n",
    "<br>\n",
    "\n",
    "**Note:** With this notebook's default parameters, the following cell takes between 10 to 15 minutes to run. "
   ]
  },
  {
   "cell_type": "code",
   "execution_count": 31,
   "metadata": {
    "deletable": false,
    "editable": false
   },
   "outputs": [
    {
     "name": "stdout",
     "output_type": "stream",
     "text": [
      "Episode 100 | Total point average of the last 100 episodes: -154.28\n",
      "Episode 200 | Total point average of the last 100 episodes: -98.328\n",
      "Episode 300 | Total point average of the last 100 episodes: -41.52\n",
      "Episode 400 | Total point average of the last 100 episodes: 52.674\n",
      "Episode 500 | Total point average of the last 100 episodes: 150.25\n",
      "Episode 600 | Total point average of the last 100 episodes: 161.74\n",
      "Episode 668 | Total point average of the last 100 episodes: 200.47\n",
      "\n",
      "Environment solved in 668 episodes!\n",
      "\n",
      "Total Runtime: 860.66 s (14.34 min)\n"
     ]
    }
   ],
   "source": [
    "start = time.time()\n",
    "\n",
    "num_episodes = 2000\n",
    "max_num_timesteps = 1000\n",
    "\n",
    "total_point_history = []\n",
    "\n",
    "num_p_av = 100    # number of total points to use for averaging\n",
    "epsilon = 1.0     # initial ε value for ε-greedy policy\n",
    "\n",
    "# Create a memory buffer D with capacity N\n",
    "memory_buffer = deque(maxlen=MEMORY_SIZE)\n",
    "\n",
    "# Set the target network weights equal to the Q-Network weights\n",
    "target_q_network.set_weights(q_network.get_weights())\n",
    "\n",
    "for i in range(num_episodes):\n",
    "    \n",
    "    # Reset the environment to the initial state and get the initial state\n",
    "    state = env.reset()\n",
    "    total_points = 0\n",
    "    \n",
    "    for t in range(max_num_timesteps):\n",
    "        \n",
    "        # From the current state S choose an action A using an ε-greedy policy\n",
    "        state_qn = np.expand_dims(state, axis=0)  # state needs to be the right shape for the q_network\n",
    "        q_values = q_network(state_qn)\n",
    "        action = utils.get_action(q_values, epsilon)\n",
    "        \n",
    "        # Take action A and receive reward R and the next state S'\n",
    "        next_state, reward, done, _ = env.step(action)\n",
    "        \n",
    "        # Store experience tuple (S,A,R,S') in the memory buffer.\n",
    "        # We store the done variable as well for convenience.\n",
    "        memory_buffer.append(experience(state, action, reward, next_state, done))\n",
    "        \n",
    "        # Only update the network every NUM_STEPS_FOR_UPDATE time steps.\n",
    "        update = utils.check_update_conditions(t, NUM_STEPS_FOR_UPDATE, memory_buffer)\n",
    "        \n",
    "        if update:\n",
    "            # Sample random mini-batch of experience tuples (S,A,R,S') from D\n",
    "            experiences = utils.get_experiences(memory_buffer)\n",
    "            \n",
    "            # Set the y targets, perform a gradient descent step,\n",
    "            # and update the network weights.\n",
    "            agent_learn(experiences, GAMMA)\n",
    "        \n",
    "        state = next_state.copy()\n",
    "        total_points += reward\n",
    "        \n",
    "        if done:\n",
    "            break\n",
    "            \n",
    "    total_point_history.append(total_points)\n",
    "    av_latest_points = np.mean(total_point_history[-num_p_av:])\n",
    "    \n",
    "    # Update the ε value\n",
    "    epsilon = utils.get_new_eps(epsilon)\n",
    "\n",
    "    print(f\"\\rEpisode {i+1} | Total point average of the last {num_p_av} episodes: {av_latest_points:.2f}\", end=\"\")\n",
    "\n",
    "    if (i+1) % num_p_av == 0:\n",
    "        print(f\"\\rEpisode {i+1} | Total point average of the last {num_p_av} episodes: {av_latest_points:.2f}\")\n",
    "\n",
    "    # We will consider that the environment is solved if we get an\n",
    "    # average of 200 points in the last 100 episodes.\n",
    "    if av_latest_points >= 200.0:\n",
    "        print(f\"\\n\\nEnvironment solved in {i+1} episodes!\")\n",
    "        q_network.save('lunar_lander_model.h5')\n",
    "        break\n",
    "        \n",
    "tot_time = time.time() - start\n",
    "\n",
    "print(f\"\\nTotal Runtime: {tot_time:.2f} s ({(tot_time/60):.2f} min)\")"
   ]
  },
  {
   "cell_type": "markdown",
   "metadata": {},
   "source": [
    "We can plot the total point history along with the moving average to see how our agent improved during training. If you want to know about the different plotting options available in the `utils.plot_history` function we encourage you to take a look at the `utils` module."
   ]
  },
  {
   "cell_type": "code",
   "execution_count": 32,
   "metadata": {
    "deletable": false,
    "editable": false,
    "id": "E_EUXxurfe8m",
    "scrolled": false
   },
   "outputs": [
    {
     "data": {
      "image/png": "[encoded data removed]",
      "text/plain": [
       "<Figure size 720x504 with 1 Axes>"
      ]
     },
     "metadata": {},
     "output_type": "display_data"
    }
   ],
   "source": [
    "# Plot the total point history along with the moving average\n",
    "utils.plot_history(total_point_history)"
   ]
  },
  {
   "cell_type": "markdown",
   "metadata": {
    "id": "c_xwgaX5MnYt"
   },
   "source": [
    "<a name=\"10\"></a>\n",
    "## 10 - See the Trained Agent In Action\n",
    "\n",
    "Now that we have trained our agent, we can see it in action. We will use the `utils.create_video` function to create a video of our agent interacting with the environment using the trained $Q$-Network. The `utils.create_video` function uses the `imageio` library to create the video. This library produces some warnings that can be distracting, so, to suppress these warnings we run the code below."
   ]
  },
  {
   "cell_type": "code",
   "execution_count": 33,
   "metadata": {
    "deletable": false,
    "editable": false
   },
   "outputs": [],
   "source": [
    "# Suppress warnings from imageio\n",
    "import logging\n",
    "logging.getLogger().setLevel(logging.ERROR)"
   ]
  },
  {
   "cell_type": "markdown",
   "metadata": {},
   "source": [
    "In the cell below we create a video of our agent interacting with the Lunar Lander environment using the trained `q_network`. The video is saved to the `videos` folder with the given `filename`. We use the `utils.embed_mp4` function to embed the video in the Jupyter Notebook so that we can see it here directly without having to download it.\n",
    "\n",
    "We should note that since the lunar lander starts with a random initial force applied to its center of mass, every time you run the cell below you will see a different video. If the agent was trained properly, it should be able to land the lunar lander in the landing pad every time, regardless of the initial force applied to its center of mass."
   ]
  },
  {
   "cell_type": "code",
   "execution_count": 34,
   "metadata": {
    "deletable": false,
    "editable": false,
    "id": "3Ttb_zLeJKiG"
   },
   "outputs": [
    {
     "data": {
      "text/html": [
       "\n",
       "    <video width=\"840\" height=\"480\" controls>\n",
       "    <source src=\"data:video/mp4;base64,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\" type=\"video/mp4\">\n",
       "    Your browser does not support the video tag.\n",
       "    </video>"
      ],
      "text/plain": [
       "<IPython.core.display.HTML object>"
      ]
     },
     "execution_count": 34,
     "metadata": {},
     "output_type": "execute_result"
    }
   ],
   "source": [
    "filename = \"./videos/lunar_lander.mp4\"\n",
    "\n",
    "utils.create_video(filename, env, q_network)\n",
    "utils.embed_mp4(filename)"
   ]
  },
  {
   "cell_type": "markdown",
   "metadata": {},
   "source": [
    "<a name=\"11\"></a>\n",
    "## 11 - Congratulations!\n",
    "\n",
    "You have successfully used Deep Q-Learning with Experience Replay to train an agent to land a lunar lander safely on a landing pad on the surface of the moon. Congratulations!"
   ]
  },
  {
   "cell_type": "markdown",
   "metadata": {},
   "source": [
    "<a name=\"12\"></a>\n",
    "## 12 - References\n",
    "\n",
    "If you would like to learn more about Deep Q-Learning, we recommend you check out the following papers.\n",
    "\n",
    "\n",
    "* Mnih, V., Kavukcuoglu, K., Silver, D. et al. Human-level control through deep reinforcement learning. Nature 518, 529–533 (2015).\n",
    "\n",
    "\n",
    "* Lillicrap, T. P., Hunt, J. J., Pritzel, A., et al. Continuous Control with Deep Reinforcement Learning. ICLR (2016).\n",
    "\n",
    "\n",
    "* Mnih, V., Kavukcuoglu, K., Silver, D. et al. Playing Atari with Deep Reinforcement Learning. arXiv e-prints.  arXiv:1312.5602 (2013)."
   ]
  },
  {
   "cell_type": "markdown",
   "metadata": {},
   "source": [
    "<details>\n",
    "  <summary><font size=\"2\" color=\"darkgreen\"><b>Please click here if you want to experiment with any of the non-graded code.</b></font></summary>\n",
    "    <p><i><b>Important Note: Please only do this when you've already passed the assignment to avoid problems with the autograder.</b></i>\n",
    "    <ol>\n",
    "        <li> On the notebook’s menu, click “View” > “Cell Toolbar” > “Edit Metadata”</li>\n",
    "        <li> Hit the “Edit Metadata” button next to the code cell which you want to lock/unlock</li>\n",
    "        <li> Set the attribute value for “editable” to:\n",
    "            <ul>\n",
    "                <li> “true” if you want to unlock it </li>\n",
    "                <li> “false” if you want to lock it </li>\n",
    "            </ul>\n",
    "        </li>\n",
    "        <li> On the notebook’s menu, click “View” > “Cell Toolbar” > “None” </li>\n",
    "    </ol>\n",
    "    <p> Here's a short demo of how to do the steps above: \n",
    "        <br>\n",
    "        <img src=\"https://drive.google.com/uc?export=view&id=14Xy_Mb17CZVgzVAgq7NCjMVBvSae3xO1\" align=\"center\" alt=\"unlock_cells.gif\">\n",
    "</details>"
   ]
  },
  {
   "cell_type": "code",
   "execution_count": null,
   "metadata": {},
   "outputs": [],
   "source": []
  }
 ],
 "metadata": {
  "accelerator": "GPU",
  "colab": {
   "collapsed_sections": [],
   "name": "TensorFlow - Lunar Lander.ipynb",
   "provenance": []
  },
  "kernelspec": {
   "display_name": "Python 3",
   "language": "python",
   "name": "python3"
  },
  "language_info": {
   "codemirror_mode": {
    "name": "ipython",
    "version": 3
   },
   "file_extension": ".py",
   "mimetype": "text/x-python",
   "name": "python",
   "nbconvert_exporter": "python",
   "pygments_lexer": "ipython3",
   "version": "3.7.6"
  }
 },
 "nbformat": 4,
 "nbformat_minor": 1
}
